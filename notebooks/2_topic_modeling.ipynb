{
 "cells": [
  {
   "cell_type": "code",
   "execution_count": 1,
   "id": "0a9ea6ad",
   "metadata": {},
   "outputs": [],
   "source": [
    "import sys\n",
    "import os\n",
    "\n",
    "# Add the src directory to the Python path\n",
    "sys.path.append(os.path.abspath(os.path.join(\"..\", \"src\")))\n",
    "\n",
    "\n"
   ]
  },
  {
   "cell_type": "code",
   "execution_count": 2,
   "id": "985ed9c6",
   "metadata": {},
   "outputs": [
    {
     "name": "stdout",
     "output_type": "stream",
     "text": [
      "✅ triu import successful\n"
     ]
    }
   ],
   "source": [
    "from scipy.linalg import triu\n",
    "print(\"✅ triu import successful\")\n"
   ]
  },
  {
   "cell_type": "code",
   "execution_count": 3,
   "id": "e570a292",
   "metadata": {},
   "outputs": [],
   "source": [
    "from topic_modeler import build_lda_model, get_dominant_topic, visualize_topics\n",
    "import pandas as pd\n"
   ]
  },
  {
   "cell_type": "code",
   "execution_count": 4,
   "id": "5e77e06c",
   "metadata": {},
   "outputs": [],
   "source": [
    "df = pd.read_csv(\"../data/cleaned_data.csv\")\n"
   ]
  },
  {
   "cell_type": "code",
   "execution_count": 6,
   "id": "19ffd2d9",
   "metadata": {},
   "outputs": [],
   "source": [
    "df = df[df['text'].apply(lambda x: isinstance(x, str))]\n"
   ]
  },
  {
   "cell_type": "code",
   "execution_count": 7,
   "id": "e89f13bd",
   "metadata": {},
   "outputs": [],
   "source": [
    "lda_model, corpus, dictionary = build_lda_model(df['text'], num_topics=10)\n"
   ]
  },
  {
   "cell_type": "code",
   "execution_count": 8,
   "id": "efbd93c4",
   "metadata": {},
   "outputs": [],
   "source": [
    "df['topic'] = get_dominant_topic(lda_model, corpus)"
   ]
  },
  {
   "cell_type": "code",
   "execution_count": 9,
   "id": "d546b77e",
   "metadata": {},
   "outputs": [],
   "source": [
    "df.to_csv(\"../data/labeled_data.csv\", index=False)"
   ]
  },
  {
   "cell_type": "code",
   "execution_count": 10,
   "id": "3a5e8041",
   "metadata": {},
   "outputs": [],
   "source": [
    "visualize_topics(lda_model, corpus, dictionary)"
   ]
  }
 ],
 "metadata": {
  "kernelspec": {
   "display_name": "Python 3",
   "language": "python",
   "name": "python3"
  },
  "language_info": {
   "codemirror_mode": {
    "name": "ipython",
    "version": 3
   },
   "file_extension": ".py",
   "mimetype": "text/x-python",
   "name": "python",
   "nbconvert_exporter": "python",
   "pygments_lexer": "ipython3",
   "version": "3.11.5"
  }
 },
 "nbformat": 4,
 "nbformat_minor": 5
}
